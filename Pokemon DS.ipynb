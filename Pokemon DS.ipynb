{
 "cells": [
  {
   "cell_type": "markdown",
   "metadata": {},
   "source": [
    "# READING DATA"
   ]
  },
  {
   "cell_type": "code",
   "execution_count": 72,
   "metadata": {
    "collapsed": false
   },
   "outputs": [
    {
     "data": {
      "text/plain": [
       "<pyspark.context.SparkContext at 0x7f01149b4910>"
      ]
     },
     "execution_count": 72,
     "metadata": {},
     "output_type": "execute_result"
    }
   ],
   "source": [
    "sc"
   ]
  },
  {
   "cell_type": "code",
   "execution_count": 75,
   "metadata": {
    "collapsed": false
   },
   "outputs": [
    {
     "data": {
      "text/plain": [
       "<pyspark.sql.context.HiveContext at 0x7f0114772350>"
      ]
     },
     "execution_count": 75,
     "metadata": {},
     "output_type": "execute_result"
    }
   ],
   "source": [
    "sqlContext"
   ]
  },
  {
   "cell_type": "code",
   "execution_count": 77,
   "metadata": {
    "collapsed": false
   },
   "outputs": [],
   "source": [
    "pokemonFile=sqlContext.read.format(\"com.databricks.spark.csv\")\\\n",
    ".option(\"header\", \"true\").option(\"delimiter\", \",\").option(\"encoding\",\"UTF-8\")\\\n",
    ".load(\"/user/mtazi/TrainingDS/pokemon.csv\")\n",
    "\n",
    "movesFile=sqlContext.read.format(\"com.databricks.spark.csv\")\\\n",
    ".option(\"header\", \"true\").option(\"delimiter\", \",\").option(\"encoding\",\"UTF-8\")\\\n",
    ".load(\"/user/mtazi/TrainingDS/moves.csv\")\n",
    "\n",
    "pokemonMovesFile=sqlContext.read.format(\"com.databricks.spark.csv\")\\\n",
    ".option(\"header\", \"true\").option(\"delimiter\", \",\").option(\"encoding\",\"UTF-8\")\\\n",
    ".load(\"/user/mtazi/TrainingDS/pokemon_moves.csv\")"
   ]
  },
  {
   "cell_type": "code",
   "execution_count": 82,
   "metadata": {
    "collapsed": false,
    "scrolled": true
   },
   "outputs": [
    {
     "data": {
      "text/plain": [
       "Row(id=u'1', identifier=u'bulbasaur', species_id=u'1', height=u'7', weight=u'69', base_experience=u'64', order=u'1', is_default=u'1')"
      ]
     },
     "execution_count": 82,
     "metadata": {},
     "output_type": "execute_result"
    }
   ],
   "source": [
    "pokemonFile.head()"
   ]
  },
  {
   "cell_type": "code",
   "execution_count": 83,
   "metadata": {
    "collapsed": false,
    "scrolled": true
   },
   "outputs": [
    {
     "name": "stdout",
     "output_type": "stream",
     "text": [
      "root\n",
      " |-- id: string (nullable = true)\n",
      " |-- identifier: string (nullable = true)\n",
      " |-- species_id: string (nullable = true)\n",
      " |-- height: string (nullable = true)\n",
      " |-- weight: string (nullable = true)\n",
      " |-- base_experience: string (nullable = true)\n",
      " |-- order: string (nullable = true)\n",
      " |-- is_default: string (nullable = true)\n",
      "\n"
     ]
    }
   ],
   "source": [
    "pokemonFile.printSchema()"
   ]
  },
  {
   "cell_type": "code",
   "execution_count": 84,
   "metadata": {
    "collapsed": false,
    "scrolled": true
   },
   "outputs": [
    {
     "data": {
      "text/plain": [
       "Row(id=u'1', identifier=u'pound', generation_id=u'1', type_id=u'1', power=u'40', pp=u'35', accuracy=u'100', priority=u'0', target_id=u'10', damage_class_id=u'2', effect_id=u'1', effect_chance=u'', contest_type_id=u'5', contest_effect_id=u'1', super_contest_effect_id=u'5')"
      ]
     },
     "execution_count": 84,
     "metadata": {},
     "output_type": "execute_result"
    }
   ],
   "source": [
    "movesFile.head()"
   ]
  },
  {
   "cell_type": "code",
   "execution_count": 85,
   "metadata": {
    "collapsed": false
   },
   "outputs": [
    {
     "name": "stdout",
     "output_type": "stream",
     "text": [
      "root\n",
      " |-- id: string (nullable = true)\n",
      " |-- identifier: string (nullable = true)\n",
      " |-- generation_id: string (nullable = true)\n",
      " |-- type_id: string (nullable = true)\n",
      " |-- power: string (nullable = true)\n",
      " |-- pp: string (nullable = true)\n",
      " |-- accuracy: string (nullable = true)\n",
      " |-- priority: string (nullable = true)\n",
      " |-- target_id: string (nullable = true)\n",
      " |-- damage_class_id: string (nullable = true)\n",
      " |-- effect_id: string (nullable = true)\n",
      " |-- effect_chance: string (nullable = true)\n",
      " |-- contest_type_id: string (nullable = true)\n",
      " |-- contest_effect_id: string (nullable = true)\n",
      " |-- super_contest_effect_id: string (nullable = true)\n",
      "\n"
     ]
    }
   ],
   "source": [
    "movesFile.printSchema()"
   ]
  },
  {
   "cell_type": "code",
   "execution_count": 86,
   "metadata": {
    "collapsed": false,
    "scrolled": true
   },
   "outputs": [
    {
     "data": {
      "text/plain": [
       "Row(pokemon_id=u'1', version_group_id=u'1', move_id=u'14', pokemon_move_method_id=u'4', level=u'0', order=u'')"
      ]
     },
     "execution_count": 86,
     "metadata": {},
     "output_type": "execute_result"
    }
   ],
   "source": [
    "pokemonMovesFile.head()"
   ]
  },
  {
   "cell_type": "code",
   "execution_count": 87,
   "metadata": {
    "collapsed": false,
    "scrolled": true
   },
   "outputs": [
    {
     "name": "stdout",
     "output_type": "stream",
     "text": [
      "root\n",
      " |-- pokemon_id: string (nullable = true)\n",
      " |-- version_group_id: string (nullable = true)\n",
      " |-- move_id: string (nullable = true)\n",
      " |-- pokemon_move_method_id: string (nullable = true)\n",
      " |-- level: string (nullable = true)\n",
      " |-- order: string (nullable = true)\n",
      "\n"
     ]
    }
   ],
   "source": [
    "pokemonMovesFile.printSchema()"
   ]
  },
  {
   "cell_type": "code",
   "execution_count": 88,
   "metadata": {
    "collapsed": false,
    "scrolled": true
   },
   "outputs": [
    {
     "name": "stdout",
     "output_type": "stream",
     "text": [
      "+----------+----------------+-------+----------------------+-----+-----+\n",
      "|pokemon_id|version_group_id|move_id|pokemon_move_method_id|level|order|\n",
      "+----------+----------------+-------+----------------------+-----+-----+\n",
      "|         1|               1|     14|                     4|    0|     |\n",
      "|         1|               1|     15|                     4|    0|     |\n",
      "|         1|               1|     22|                     1|   13|     |\n",
      "|         1|               1|     33|                     1|    1|    1|\n",
      "|         1|               1|     34|                     4|    0|     |\n",
      "|         1|               1|     36|                     4|    0|     |\n",
      "|         1|               1|     38|                     4|    0|     |\n",
      "|         1|               1|     45|                     1|    1|    2|\n",
      "|         1|               1|     72|                     4|    0|     |\n",
      "|         1|               1|     73|                     1|    7|     |\n",
      "|         1|               1|     74|                     1|   34|     |\n",
      "|         1|               1|     75|                     1|   27|     |\n",
      "|         1|               1|     76|                     1|   48|     |\n",
      "|         1|               1|     76|                     4|    0|     |\n",
      "|         1|               1|     77|                     1|   20|     |\n",
      "|         1|               1|     79|                     1|   41|     |\n",
      "|         1|               1|     92|                     4|    0|     |\n",
      "|         1|               1|     99|                     4|    0|     |\n",
      "|         1|               1|    102|                     4|    0|     |\n",
      "|         1|               1|    104|                     4|    0|     |\n",
      "+----------+----------------+-------+----------------------+-----+-----+\n",
      "only showing top 20 rows\n",
      "\n"
     ]
    }
   ],
   "source": [
    "pokemonMovesFile.show()"
   ]
  },
  {
   "cell_type": "code",
   "execution_count": 89,
   "metadata": {
    "collapsed": false
   },
   "outputs": [
    {
     "name": "stdout",
     "output_type": "stream",
     "text": [
      "+---+----------+------+------+---------------+\n",
      "| id|identifier|height|weight|base_experience|\n",
      "+---+----------+------+------+---------------+\n",
      "|  1| bulbasaur|     7|    69|             64|\n",
      "|  2|   ivysaur|    10|   130|            142|\n",
      "|  3|  venusaur|    20|  1000|            236|\n",
      "|  4|charmander|     6|    85|             62|\n",
      "|  5|charmeleon|    11|   190|            142|\n",
      "|  6| charizard|    17|   905|            240|\n",
      "|  7|  squirtle|     5|    90|             63|\n",
      "|  8| wartortle|    10|   225|            142|\n",
      "|  9| blastoise|    16|   855|            239|\n",
      "| 10|  caterpie|     3|    29|             39|\n",
      "| 11|   metapod|     7|    99|             72|\n",
      "| 12|butterfree|    11|   320|            178|\n",
      "| 13|    weedle|     3|    32|             39|\n",
      "| 14|    kakuna|     6|   100|             72|\n",
      "| 15|  beedrill|    10|   295|            178|\n",
      "| 16|    pidgey|     3|    18|             50|\n",
      "| 17| pidgeotto|    11|   300|            122|\n",
      "| 18|   pidgeot|    15|   395|            216|\n",
      "| 19|   rattata|     3|    35|             51|\n",
      "| 20|  raticate|     7|   185|            145|\n",
      "+---+----------+------+------+---------------+\n",
      "only showing top 20 rows\n",
      "\n"
     ]
    }
   ],
   "source": [
    "pokemonFile = pokemonFile.drop(\"order\").drop(\"is_default\").drop(\"species_id\")\n",
    "pokemonFile.show()"
   ]
  },
  {
   "cell_type": "code",
   "execution_count": 90,
   "metadata": {
    "collapsed": true
   },
   "outputs": [],
   "source": [
    "pokemonFile.registerTempTable(\"pokemons_table\")\n",
    "movesFile.registerTempTable(\"moves_table\")\n",
    "pokemonMovesFile.registerTempTable(\"pokemons_moves_table\")"
   ]
  },
  {
   "cell_type": "code",
   "execution_count": 91,
   "metadata": {
    "collapsed": false
   },
   "outputs": [],
   "source": [
    "pokemons = sqlContext.sql(\"SELECT * FROM pokemons_table\")"
   ]
  },
  {
   "cell_type": "code",
   "execution_count": 92,
   "metadata": {
    "collapsed": false
   },
   "outputs": [
    {
     "data": {
      "text/plain": [
       "811"
      ]
     },
     "execution_count": 92,
     "metadata": {},
     "output_type": "execute_result"
    }
   ],
   "source": [
    "pokemons.count()"
   ]
  },
  {
   "cell_type": "code",
   "execution_count": 93,
   "metadata": {
    "collapsed": false,
    "scrolled": true
   },
   "outputs": [
    {
     "name": "stdout",
     "output_type": "stream",
     "text": [
      "+---+----------+------+------+---------------+\n",
      "| id|identifier|height|weight|base_experience|\n",
      "+---+----------+------+------+---------------+\n",
      "|  4|charmander|     6|    85|             62|\n",
      "|  5|charmeleon|    11|   190|            142|\n",
      "|  6| charizard|    17|   905|            240|\n",
      "| 10|  caterpie|     3|    29|             39|\n",
      "| 35|  clefairy|     6|    75|            113|\n",
      "| 36|  clefable|    13|   400|            217|\n",
      "| 91|  cloyster|    15|  1325|            184|\n",
      "|104|    cubone|     4|    65|             64|\n",
      "|113|   chansey|    11|   346|            395|\n",
      "|152| chikorita|     9|    64|             64|\n",
      "|155| cyndaquil|     5|    79|             62|\n",
      "|159|  croconaw|    11|   250|            142|\n",
      "|169|    crobat|    18|   750|            241|\n",
      "|170|  chinchou|     5|   120|             66|\n",
      "|173|    cleffa|     3|    30|             44|\n",
      "|222|   corsola|     6|    50|            133|\n",
      "|251|    celebi|     6|    50|            270|\n",
      "|256| combusken|     9|   195|            142|\n",
      "|268|   cascoon|     7|   115|             41|\n",
      "|318|  carvanha|     8|   208|             61|\n",
      "+---+----------+------+------+---------------+\n",
      "only showing top 20 rows\n",
      "\n"
     ]
    }
   ],
   "source": [
    "result = pokemons.filter(\"identifier like 'c%'\")\n",
    "result.show()"
   ]
  },
  {
   "cell_type": "code",
   "execution_count": 107,
   "metadata": {
    "collapsed": false,
    "scrolled": true
   },
   "outputs": [],
   "source": [
    "#SELECT pokemons.identifier as pokemon, moves.identifier as skill\n",
    "#FROM pokemons_table as pokemons, moves_table as moves, pokemons_moves_table as pokemons_moves\n",
    "#WHERE pokemons_moves.move_id = moves.id AND pokemons_moves.pokemon_id = pokemons.id\"\n",
    "skillsPerPokemon = sqlContext.sql(\"SELECT distinct(pokemons.identifier) as pokemon, moves.identifier as skill \\\n",
    "FROM pokemons_table as pokemons, moves_table as moves \\\n",
    "INNER JOIN pokemons_moves_table as pokemons_moves ON pokemons.id = pokemons_moves.pokemon_id AND pokemons_moves.move_id = moves.id\")"
   ]
  },
  {
   "cell_type": "code",
   "execution_count": 110,
   "metadata": {
    "collapsed": false
   },
   "outputs": [
    {
     "name": "stdout",
     "output_type": "stream",
     "text": [
      "+---------------+------------+\n",
      "|        pokemon|       skill|\n",
      "+---------------+------------+\n",
      "|      rotom-fan| power-split|\n",
      "|         mothim|  guard-swap|\n",
      "|      tangrowth|   aqua-ring|\n",
      "|     seismitoad|stealth-rock|\n",
      "|     fletchling|focus-energy|\n",
      "|     fletchling|        acid|\n",
      "|        pancham|       trick|\n",
      "| darmanitan-zen|destiny-bond|\n",
      "|        starmie|  sonic-boom|\n",
      "|        suicune|    imprison|\n",
      "|         kirlia| fury-attack|\n",
      "|        torkoal|shadow-punch|\n",
      "|       simipour|   mega-kick|\n",
      "|      vanillite|     psybeam|\n",
      "|      quilladin|  super-fang|\n",
      "|         klefki|        slam|\n",
      "|    rotom-frost|cotton-guard|\n",
      "|meowstic-female|  supersonic|\n",
      "|          pichu|    blizzard|\n",
      "|         cleffa| fusion-bolt|\n",
      "+---------------+------------+\n",
      "only showing top 20 rows\n",
      "\n"
     ]
    }
   ],
   "source": [
    "skillsPerPokemon.show()"
   ]
  },
  {
   "cell_type": "code",
   "execution_count": 104,
   "metadata": {
    "collapsed": true
   },
   "outputs": [],
   "source": [
    "bulbasaurSkills = skillsPerPokemon.filter(\"pokemon = 'bulbasaur' \")"
   ]
  },
  {
   "cell_type": "code",
   "execution_count": 105,
   "metadata": {
    "collapsed": false
   },
   "outputs": [
    {
     "name": "stdout",
     "output_type": "stream",
     "text": [
      "+---------+------------+\n",
      "|  pokemon|       skill|\n",
      "+---------+------------+\n",
      "|bulbasaur| lucky-chant|\n",
      "|bulbasaur|  clear-smog|\n",
      "|bulbasaur| head-charge|\n",
      "|bulbasaur|    me-first|\n",
      "|bulbasaur|  gear-grind|\n",
      "|bulbasaur|     copycat|\n",
      "|bulbasaur|searing-shot|\n",
      "|bulbasaur| horn-attack|\n",
      "|bulbasaur|  power-swap|\n",
      "|bulbasaur|techno-blast|\n",
      "|bulbasaur| fury-attack|\n",
      "|bulbasaur|  guard-swap|\n",
      "|bulbasaur|  relic-song|\n",
      "|bulbasaur|  horn-drill|\n",
      "|bulbasaur|  punishment|\n",
      "|bulbasaur|flash-cannon|\n",
      "|bulbasaur|secret-sword|\n",
      "|bulbasaur|      tackle|\n",
      "|bulbasaur|      tackle|\n",
      "|bulbasaur|      tackle|\n",
      "+---------+------------+\n",
      "only showing top 20 rows\n",
      "\n"
     ]
    }
   ],
   "source": [
    "bulbasaurSkills.show()"
   ]
  },
  {
   "cell_type": "code",
   "execution_count": null,
   "metadata": {
    "collapsed": true
   },
   "outputs": [],
   "source": [
    "skillsPerPokemon.save('/user/mtazi/TrainingDS/skillsPerPokemon', 'com.databricks.spark.csv')"
   ]
  }
 ],
 "metadata": {
  "kernelspec": {
   "display_name": "Latest - Pyspark [anaconda2-4.1.1]",
   "language": "",
   "name": "pyspark_anaconda2"
  },
  "language_info": {
   "codemirror_mode": {
    "name": "ipython",
    "version": 2
   },
   "file_extension": ".py",
   "mimetype": "text/x-python",
   "name": "python",
   "nbconvert_exporter": "python",
   "pygments_lexer": "ipython2",
   "version": "2.7.12"
  }
 },
 "nbformat": 4,
 "nbformat_minor": 0
}
